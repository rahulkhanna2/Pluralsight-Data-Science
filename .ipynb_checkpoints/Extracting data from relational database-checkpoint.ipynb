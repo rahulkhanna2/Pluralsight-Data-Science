{
 "cells": [
  {
   "cell_type": "code",
   "execution_count": 2,
   "metadata": {},
   "outputs": [],
   "source": [
    "import sqlite3\n",
    "con = sqlite3.connect(\"classrom.db\")\n",
    "con.close()"
   ]
  },
  {
   "cell_type": "code",
   "execution_count": 13,
   "metadata": {},
   "outputs": [
    {
     "name": "stdout",
     "output_type": "stream",
     "text": [
      "Table Created!!\n"
     ]
    }
   ],
   "source": [
    "con = sqlite3.connect(\"classroom.db\")\n",
    "cursor = con.cursor()\n",
    "drop_table = \"drop table classroom\"\n",
    "create_table = \"\"\"CREATE TABLE classroom (\n",
    "                student_id INTEGER PRIMARY KEY, \n",
    "                name VARCHAR2, \n",
    "                gender CHAR(1),\n",
    "                physics_marks int,\n",
    "                chemistry_marks int,\n",
    "                mathematics_marks int);\"\"\"\n",
    "cursor.execute(drop_table)\n",
    "cursor.execute(create_table)\n",
    "print(\"Table Created!!\")\n",
    "con.commit()"
   ]
  },
  {
   "cell_type": "code",
   "execution_count": 14,
   "metadata": {},
   "outputs": [
    {
     "name": "stdout",
     "output_type": "stream",
     "text": [
      "New Student named Rahul added\n",
      "New Student named Raghav added\n",
      "New Student named Vasu added\n"
     ]
    }
   ],
   "source": [
    "student_list = [(1, \"Rahul\",\"M\",84,88,81), (2,\"Raghav\",\"M\",54,55,63), (3,\"Vasu\",\"M\",89,63,78)]\n",
    "\n",
    "for student in student_list:\n",
    "    insert_stmt = \"\"\"INSERT INTO classroom \n",
    "    VALUES \n",
    "    ({0},\"{1}\",\"{2}\",{3},{4},{5})\"\"\".format(student[0],student[1],student[2],student[3],student[4],student[5])\n",
    "    cursor.execute(insert_stmt)\n",
    "    print (\"New Student named {} added\".format(student[1]))\n",
    "con.commit()"
   ]
  },
  {
   "cell_type": "code",
   "execution_count": 19,
   "metadata": {},
   "outputs": [
    {
     "name": "stdout",
     "output_type": "stream",
     "text": [
      "[(1, 'Rahul', 'M', 84, 88, 81), (2, 'Raghav', 'M', 54, 55, 63), (3, 'Vasu', 'M', 89, 63, 78)]\n"
     ]
    }
   ],
   "source": [
    "query = \"Select * from classroom\"\n",
    "print ((cursor.execute(query)).fetchall())"
   ]
  },
  {
   "cell_type": "code",
   "execution_count": 23,
   "metadata": {},
   "outputs": [
    {
     "name": "stdout",
     "output_type": "stream",
     "text": [
      "Solving environment: ...working... done\n",
      "\n",
      "## Package Plan ##\n",
      "\n",
      "  environment location: C:\\ProgramData\\Anaconda3\n",
      "\n",
      "  added / updated specs: \n",
      "    - pymysql\n",
      "\n",
      "\n",
      "The following NEW packages will be INSTALLED:\n",
      "\n",
      "    pymysql: 0.8.1-py_0 conda-forge\n",
      "\n",
      "Preparing transaction: ...working... done\n",
      "Verifying transaction: ...working... done\n",
      "Executing transaction: ...working... failed\n",
      "Rolling back transaction: ...working... done\n"
     ]
    },
    {
     "name": "stderr",
     "output_type": "stream",
     "text": [
      "\n",
      "\n",
      "==> WARNING: A newer version of conda exists. <==\n",
      "  current version: 4.4.10\n",
      "  latest version: 4.5.4\n",
      "\n",
      "Please update conda by running\n",
      "\n",
      "    $ conda update -n base conda\n",
      "\n",
      "\n",
      "WARNING conda.gateways.disk:exp_backoff_fn(49): Uncaught backoff with errno EEXIST 17\n",
      "ERROR conda.core.link:_execute(481): An error occurred while installing package 'None'.\n",
      "PermissionError(13, 'Permission denied')\n",
      "Attempting to roll back.\n",
      "\n",
      "\n",
      "PermissionError(13, 'Permission denied')\n",
      "FileExistsError(17, 'Cannot create a file when that file already exists')\n",
      "\n",
      "\n"
     ]
    }
   ],
   "source": [
    "!conda install -y -q pymysql"
   ]
  },
  {
   "cell_type": "code",
   "execution_count": 22,
   "metadata": {},
   "outputs": [],
   "source": [
    "import pymysql"
   ]
  },
  {
   "cell_type": "markdown",
   "metadata": {},
   "source": [
    "### Connect to Oracle Database at localhost"
   ]
  },
  {
   "cell_type": "code",
   "execution_count": 4,
   "metadata": {},
   "outputs": [
    {
     "name": "stdout",
     "output_type": "stream",
     "text": [
      "   COUNTRY_ID              COUNTRY_NAME  REGION_ID\n",
      "0          AR                 Argentina          2\n",
      "1          AU                 Australia          3\n",
      "2          BE                   Belgium          1\n",
      "3          BR                    Brazil          2\n",
      "4          CA                    Canada          2\n",
      "5          CH               Switzerland          1\n",
      "6          CN                     China          3\n",
      "7          DE                   Germany          1\n",
      "8          DK                   Denmark          1\n",
      "9          EG                     Egypt          4\n",
      "10         FR                    France          1\n",
      "11         IL                    Israel          4\n",
      "12         IN                     India          3\n",
      "13         IT                     Italy          1\n",
      "14         JP                     Japan          3\n",
      "15         KW                    Kuwait          4\n",
      "16         ML                  Malaysia          3\n",
      "17         MX                    Mexico          2\n",
      "18         NG                   Nigeria          4\n",
      "19         NL               Netherlands          1\n",
      "20         SG                 Singapore          3\n",
      "21         UK            United Kingdom          1\n",
      "22         US  United States of America          2\n",
      "23         ZM                    Zambia          4\n",
      "24         ZW                  Zimbabwe          4\n"
     ]
    }
   ],
   "source": [
    "import pandas as pd\n",
    "import cx_Oracle\n",
    "con = cx_Oracle.connect(\"hr/hr@localhost:1521/xe\")\n",
    "df  = pd.read_sql(\"Select * from countries\", con)\n",
    "print (df)"
   ]
  },
  {
   "cell_type": "code",
   "execution_count": null,
   "metadata": {},
   "outputs": [],
   "source": []
  }
 ],
 "metadata": {
  "kernelspec": {
   "display_name": "Python 3",
   "language": "python",
   "name": "python3"
  },
  "language_info": {
   "codemirror_mode": {
    "name": "ipython",
    "version": 3
   },
   "file_extension": ".py",
   "mimetype": "text/x-python",
   "name": "python",
   "nbconvert_exporter": "python",
   "pygments_lexer": "ipython3",
   "version": "3.6.4"
  }
 },
 "nbformat": 4,
 "nbformat_minor": 2
}
